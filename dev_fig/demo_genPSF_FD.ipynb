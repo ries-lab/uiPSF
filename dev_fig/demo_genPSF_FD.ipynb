{
 "cells": [
  {
   "attachments": {},
   "cell_type": "markdown",
   "metadata": {},
   "source": [
    "## Demo for generating PSF model at given imaging depth"
   ]
  },
  {
   "attachments": {},
   "cell_type": "markdown",
   "metadata": {},
   "source": [
    "#### Setup environment"
   ]
  },
  {
   "cell_type": "code",
   "execution_count": 1,
   "metadata": {},
   "outputs": [
    {
     "name": "stdout",
     "output_type": "stream",
     "text": [
      "Running on GPU\n"
     ]
    }
   ],
   "source": [
    "import sys\n",
    "sys.path.append(\"..\")\n",
    "from psflearning.psflearninglib import psflearninglib\n",
    "from psflearning import io\n",
    "from psflearning.makeplots import *\n",
    "import tensorflow as tf\n",
    "#main_data_dir = io.param.load('datapath.yaml').main_data_dir\n",
    "try:\n",
    "    gpus = tf.config.list_physical_devices('GPU')\n",
    "    for gpu in gpus:\n",
    "        tf.config.experimental.set_memory_growth(gpu, True)\n",
    "    print('Running on GPU')\n",
    "except:\n",
    "    print('Running on CPU')"
   ]
  },
  {
   "attachments": {},
   "cell_type": "markdown",
   "metadata": {},
   "source": [
    "#### Load learned PSF model from bead data"
   ]
  },
  {
   "cell_type": "code",
   "execution_count": 45,
   "metadata": {},
   "outputs": [],
   "source": [
    "resfile = r'E:\\EMBL files\\data for PSF learning\\example data for uiPSF\\1ch_FD_smlm_nup96\\psfmodel_20_insitu_FD_single.h5'\n",
    "#resfile = main_data_dir+'results/2ch_40nm_bead/psfmodel_zernike_vector_multi.h5'\n",
    "f,p = io.h5.load(resfile) # load result file\n",
    "L = psflearninglib()\n",
    "L.param = p\n",
    "#L.param.PSFtype = 'insitu_zernike'"
   ]
  },
  {
   "attachments": {},
   "cell_type": "markdown",
   "metadata": {},
   "source": [
    "#### Generate PSF model at a given stage position\n",
    "`Nz`: number of z slices  \n",
    "`xsz`: number of pixels in both x and y dimension  \n",
    "`stagepos`: stage position, value should be always positive, unit: micron  \n",
    "Note: other parameters can be modified using `L.param`, such as pixel size, NA, refractive indices and wavelength"
   ]
  },
  {
   "cell_type": "code",
   "execution_count": 46,
   "metadata": {},
   "outputs": [],
   "source": [
    "Nz = 21\n",
    "xsz = 21\n",
    "f,psfobj = L.genpsf(f,Nz=Nz,xsz=xsz,stagepos=f.res.stagepos)\n",
    "#showpsf(f,p)"
   ]
  },
  {
   "cell_type": "code",
   "execution_count": 48,
   "metadata": {},
   "outputs": [],
   "source": [
    "Im = f.res.I_model\n",
    "Im = np.reshape(Im,(f.res.zernike_map.shape[-2],f.res.zernike_map.shape[-1],Nz,xsz,xsz))\n",
    "f.res.I_model = Im"
   ]
  },
  {
   "attachments": {},
   "cell_type": "markdown",
   "metadata": {},
   "source": [
    "#### Generate spline model and save new PSF file"
   ]
  },
  {
   "cell_type": "code",
   "execution_count": 59,
   "metadata": {},
   "outputs": [],
   "source": [
    "#coeff = L.gencspline(f.res,psfobj)\n",
    "#f.locres.coeff = coeff\n",
    "filename = resfile[:-3]+'_5D.h5'\n",
    "L.writeh5file(filename,f.res,f.locres,f.rois)"
   ]
  }
 ],
 "metadata": {
  "kernelspec": {
   "display_name": "Python 3 (ipykernel)",
   "language": "python",
   "name": "python3"
  },
  "language_info": {
   "codemirror_mode": {
    "name": "ipython",
    "version": 3
   },
   "file_extension": ".py",
   "mimetype": "text/x-python",
   "name": "python",
   "nbconvert_exporter": "python",
   "pygments_lexer": "ipython3",
   "version": "3.9.12"
  },
  "vscode": {
   "interpreter": {
    "hash": "89d1b8ce024819efd91eaf58db697655917fa4bf76a5f13d569ae5fe9c730d16"
   }
  }
 },
 "nbformat": 4,
 "nbformat_minor": 4
}

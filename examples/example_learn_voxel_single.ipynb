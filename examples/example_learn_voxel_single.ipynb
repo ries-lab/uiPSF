{
 "cells": [
  {
   "cell_type": "code",
   "execution_count": null,
   "metadata": {},
   "outputs": [],
   "source": [
    "import sys\n",
    "import matplotlib.pyplot as plt\n",
    "import numpy as np\n",
    "import json\n",
    "sys.path.append(\"..\")\n",
    "from psflearning.psflearninglib import psflearninglib\n",
    "with open('datadir.json','r') as file:\n",
    "    maindatadir = json.load(file)['main_data_dir']"
   ]
  },
  {
   "cell_type": "code",
   "execution_count": null,
   "metadata": {},
   "outputs": [],
   "source": [
    "#load parameters\n",
    "paramfile = 'params_default.json'\n",
    "L = psflearninglib()\n",
    "L.getparam(paramfile)"
   ]
  },
  {
   "cell_type": "code",
   "execution_count": null,
   "metadata": {},
   "outputs": [],
   "source": [
    "# load data\n",
    "\n",
    "L.param['datapath'] = maindatadir + r'bead data\\01-04-2022 bead\\40nm_top/'\n",
    "L.param['keyword'] = 'bead'\n",
    "L.param['subfolder'] = 'bead'\n",
    "L.param['format'] = '.mat'\n",
    "L.param['channeltype'] = 'single'\n",
    "L.param['gain'] = 1/2.27\n",
    "L.param['ccd_offset'] = 100\n",
    "images = L.load_data()\n"
   ]
  },
  {
   "cell_type": "code",
   "execution_count": null,
   "metadata": {},
   "outputs": [],
   "source": [
    "# setup PSF type\n",
    "L.param['PSFtype'] = 'voxel'\n",
    "L.getpsfclass()"
   ]
  },
  {
   "cell_type": "code",
   "execution_count": null,
   "metadata": {},
   "outputs": [],
   "source": [
    "# crop bead\n",
    "L.param['pixelsize_x'] =  0.129\n",
    "L.param['pixelsize_y'] = 0.129\n",
    "L.param['pixelsize_z'] = 0.05\n",
    "L.param['roi_size'] = [21,21]\n",
    "L.param['plotall'] = True\n",
    "L.param['max_bead_number'] = 20\n",
    "L.param['bead_radius'] = 0.0\n",
    "L.param['FOV']['z_start'] = 0\n",
    "dataobj = L.prep_data(images)"
   ]
  },
  {
   "cell_type": "code",
   "execution_count": null,
   "metadata": {},
   "outputs": [],
   "source": [
    "# learn PSF\n",
    "L.param['iteration'] = 100\n",
    "L.param['vary_photon'] = False\n",
    "L.param['estimate_drift'] = False\n",
    "psfobj,fitter = L.learn_psf(dataobj,time=0)"
   ]
  },
  {
   "cell_type": "code",
   "execution_count": null,
   "metadata": {},
   "outputs": [],
   "source": [
    "# save as .h5 file\n",
    "L.param['savename'] = L.param['datapath'] + 'psfmodel_test'\n",
    "resfile, res_dict, loc_dict, rois_dict = L.save_result(psfobj,dataobj,fitter)"
   ]
  },
  {
   "cell_type": "code",
   "execution_count": null,
   "metadata": {},
   "outputs": [],
   "source": [
    "# show estimated bead positions, photon and background\n",
    "cor = rois_dict['cor']\n",
    "ref_pos1 = res_dict['pos']\n",
    "fig = plt.figure(figsize=[16,8])\n",
    "ax = fig.add_subplot(2,4,1)\n",
    "plt.plot(ref_pos1[:,1]-cor[:,0])\n",
    "plt.title('y')\n",
    "ax = fig.add_subplot(2,4,2)\n",
    "plt.plot(ref_pos1[:,2]-cor[:,1])\n",
    "plt.title('x')\n",
    "ax = fig.add_subplot(2,4,3)\n",
    "plt.plot(ref_pos1[:,0])\n",
    "plt.title('z')\n",
    "ax = fig.add_subplot(2,4,5)\n",
    "plt.plot(res_dict['intensity'].transpose())\n",
    "plt.title('phton')\n",
    "ax = fig.add_subplot(2,4,6)\n",
    "plt.plot(res_dict['bg'])\n",
    "plt.title('background')"
   ]
  },
  {
   "cell_type": "code",
   "execution_count": null,
   "metadata": {},
   "outputs": [],
   "source": [
    "# compare PSF model and data\n",
    "psf_data = rois_dict['psf_data']\n",
    "psf_fit = rois_dict['psf_fit']\n",
    "\n",
    "ind1 = 0\n",
    "im1 = psf_data[ind1]\n",
    "im2 = psf_fit[ind1]\n",
    "Nz = im1.shape[0]\n",
    "zind = range(0,Nz,4)\n",
    "fig = plt.figure(figsize=[3*len(zind),6])\n",
    "for i,id in enumerate(zind):\n",
    "    ax = fig.add_subplot(2,len(zind),i+1)\n",
    "    plt.imshow(im1[id],cmap='twilight')\n",
    "    plt.axis('off')\n",
    "    ax = fig.add_subplot(2,len(zind),i+1+len(zind))\n",
    "    plt.imshow(im2[id],cmap='twilight')\n",
    "    plt.axis('off')"
   ]
  },
  {
   "cell_type": "code",
   "execution_count": null,
   "metadata": {},
   "outputs": [],
   "source": [
    "# show localization result\n",
    "Nz = loc_dict['loc']['z'].shape[1]\n",
    "fig = plt.figure(figsize=[16,4])\n",
    "ax = fig.add_subplot(1,3,1)\n",
    "plt.plot(loc_dict['loc']['x'].transpose()*L.param['pixelsize_x']*1e3,'k',alpha=0.1)\n",
    "plt.plot(loc_dict['loc']['x'][0]*0.0,'r')\n",
    "ax.set_ylabel('x bias (nm)')\n",
    "ax = fig.add_subplot(1,3,2)\n",
    "plt.plot(loc_dict['loc']['y'].transpose()*L.param['pixelsize_y']*1e3,'k',alpha=0.1)\n",
    "plt.plot(loc_dict['loc']['x'][0]*0.0,'r')\n",
    "ax.set_ylabel('y bias (nm)')\n",
    "ax = fig.add_subplot(1,3,3)\n",
    "plt.plot(np.transpose(loc_dict['loc']['z']-np.linspace(0,Nz-1,Nz))*L.param['pixelsize_z']*1e3,'k',alpha=0.1)\n",
    "plt.plot(loc_dict['loc']['x'][0]*0.0,'r')\n",
    "ax.set_ylabel('z bias (nm)')\n",
    "ax.set_ylim([-40,40])"
   ]
  }
 ],
 "metadata": {
  "kernelspec": {
   "display_name": "Python 3.9.12 ('psfinv')",
   "language": "python",
   "name": "python3"
  },
  "language_info": {
   "codemirror_mode": {
    "name": "ipython",
    "version": 3
   },
   "file_extension": ".py",
   "mimetype": "text/x-python",
   "name": "python",
   "nbconvert_exporter": "python",
   "pygments_lexer": "ipython3",
   "version": "3.9.12"
  },
  "orig_nbformat": 4,
  "vscode": {
   "interpreter": {
    "hash": "89d1b8ce024819efd91eaf58db697655917fa4bf76a5f13d569ae5fe9c730d16"
   }
  }
 },
 "nbformat": 4,
 "nbformat_minor": 2
}

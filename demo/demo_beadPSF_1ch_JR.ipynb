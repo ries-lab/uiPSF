{
 "cells": [
  {
   "cell_type": "markdown",
   "metadata": {
    "tags": []
   },
   "source": [
    "## Jonas ideas for a notebook"
   ]
  },
  {
   "cell_type": "markdown",
   "metadata": {
    "tags": []
   },
   "source": [
    "##### Setup environment"
   ]
  },
  {
   "cell_type": "code",
   "execution_count": null,
   "metadata": {},
   "outputs": [],
   "source": [
    "import sys\n",
    "sys.path.append(\"..\")\n",
    "from psflearning.psflearninglib import psflearninglib\n",
    "from psflearning import io\n",
    "from psflearning.makeplots import *"
   ]
  },
  {
   "cell_type": "markdown",
   "metadata": {
    "tags": []
   },
   "source": [
    "##### **Set necessary paprameters**"
   ]
  },
  {
   "cell_type": "code",
   "execution_count": null,
   "metadata": {
    "tags": []
   },
   "outputs": [],
   "source": [
    "PSFtype = 'zernike_vector' # PSF model class: voxel, zernike, zernike_vector, pupil, pupil_vector\n",
    "Datapath = 'D:/DataSSD/testdata/BeadsM2/' # Path to data\n",
    "Keyword = 'Pos'   # keyword for your data file, used for automatic finding files with the same keyword\n",
    "Microscope_config = 'M2'\n",
    "Spline_focus_depth = 0.5 # micro meter, for spline PSF calculation. Only zernike / pupil model. Or make separate conversion notebook"
   ]
  },
  {
   "cell_type": "markdown",
   "metadata": {
    "tags": []
   },
   "source": [
    "##### set default parameters, do some calculations, hide later, if possible execute with previous cell"
   ]
  },
  {
   "cell_type": "code",
   "execution_count": null,
   "metadata": {
    "tags": []
   },
   "outputs": [],
   "source": [
    "Channel_config = '1ch'\n",
    "if PSFtype == 'voxel' :\n",
    "    Psf_config='voxel'\n",
    "else :\n",
    "    Psf_config='zernike'\n",
    "L = psflearninglib()\n",
    "L.param = io.param.combine('config_base',psftype=Psf_config,channeltype=Channel_config,sysfile=Microscope_config) \n",
    "L.param.datapath = Datapath\n",
    "L.param.savename = L.param.datapath + 'psfmodel'\n",
    "L.param.keyword = Keyword\n",
    "L.param.subfolder = Keyword\n"
   ]
  },
  {
   "cell_type": "markdown",
   "metadata": {
    "tags": []
   },
   "source": [
    "##### **Set optional user defined parameters**"
   ]
  },
  {
   "cell_type": "code",
   "execution_count": null,
   "metadata": {},
   "outputs": [],
   "source": [
    "# Parameters that are changed regularly\n",
    "L.param.roi.max_bead_number = 22 # lower this number if out of memory \n",
    "\n",
    "# File and Start parameters \n",
    "# L.param.startmodel = 'D:/DataSSD/testdata/BeadsM2/psfmodel' \n",
    "# L.param.subfolder = 'Pos' # Subfolder name if each data file is saved in a individual folder, set to '' if no subfolder. Default: same as keyword\n",
    "\n",
    "# Model parameters\n",
    "L.param.option.model.const_pupilmag=False # use a constant pupil magnitude, only learn pupil phase.\n",
    "L.param.option.model.symmetric_mag=False # magnitude of pupil is set symmetric\n",
    "L.param.option.model.var_blur = True # use extra blurring as free parameter\n",
    "L.param.option.model.blur_sigma = 1 # Units? is this pixels? or pixels/bin? start parameter for extra blurring\n",
    "L.param.option.model.with_apoid=False # Use apodization\n",
    "L.param.option.model.var_photon = True # allow for a variation in brightness from slice to slice for each bead separately.\n",
    "\n",
    "# Data and FOV\n",
    "# L.param.FOV.z_step = 5 # use every z_step frames. This resamples the data in z. Later we could convert this to micrometers.\n",
    "# L.param.FOV.z_start=0 # raw date frames. Not intuitive: start > end. Later we could convert this to micrometers\n",
    "# L.param.FOV.z_end=-0\n",
    "# L.param.FOV.z_frames = 0 # give list of frames, repalces what is defined above. Allows for unequal spacing. Would be interesting to test (could give more weight to focus)\n",
    "#L.param.FOV.x_center = 0 # um relative to image center\n",
    "#L.param.FOV.y_center = 0\n",
    "#L.param.FOV.radius = 0 # um, if radius = 0 the entire FoV is used"
   ]
  },
  {
   "cell_type": "code",
   "execution_count": null,
   "metadata": {},
   "outputs": [],
   "source": [
    "# move to config files, remove this cell afterwards\n",
    "# Microscope_config:\n",
    "L.param.gain = 0.5\n",
    "L.param.ccd_offset = 400\n",
    "L.param.FOV.z_step = 5 \n",
    "#L.param.FOV.z_step_data = .010 #in micrometer. Possible to extract from metadata?\n",
    "L.param.FOV.z_start=0\n",
    "L.param.FOV.z_end=-0\n",
    "L.param.FOV.x_center = 0 \n",
    "L.param.FOV.y_center = 0\n",
    "L.param.FOV.radius = 0 "
   ]
  },
  {
   "cell_type": "markdown",
   "metadata": {
    "tags": []
   },
   "source": [
    "##### process those parameters, hide later"
   ]
  },
  {
   "cell_type": "code",
   "execution_count": null,
   "metadata": {},
   "outputs": [],
   "source": [
    "# L.param.pixel_size.z = L.param.FOV.z_step * L.param.FOV.z_step_data\n",
    "L.param.pixel_size.z =.05 # remove this once the code is fixed"
   ]
  },
  {
   "cell_type": "markdown",
   "metadata": {},
   "source": [
    "##### Start learning"
   ]
  },
  {
   "cell_type": "code",
   "execution_count": null,
   "metadata": {},
   "outputs": [],
   "source": [
    "images = L.load_data()\n",
    "if L.param.FOV.radius >0 : # we can do some pre-processing and parameter conversion here.\n",
    "    L.param.FOV.x_center=L.param.FOV.x_center+images.shape[2]/2\n",
    "    L.param.FOV.y_center=L.param.FOV.y_center+images.shape[3]/2\n",
    "L.getpsfclass()\n",
    "dataobj = L.prep_data(images)\n",
    "for k in range(0,1): # increase iteration number if necessary\n",
    "    psfobj,fitter = L.learn_psf(dataobj,time=0)\n",
    "resfile = L.save_result(psfobj,dataobj,fitter)"
   ]
  },
  {
   "cell_type": "markdown",
   "metadata": {},
   "source": [
    "##### Show results"
   ]
  },
  {
   "cell_type": "code",
   "execution_count": null,
   "metadata": {},
   "outputs": [],
   "source": [
    "f,p = io.h5.load(resfile) # load result file"
   ]
  },
  {
   "cell_type": "code",
   "execution_count": null,
   "metadata": {},
   "outputs": [],
   "source": [
    "f.res.sigma"
   ]
  },
  {
   "cell_type": "code",
   "execution_count": null,
   "metadata": {},
   "outputs": [],
   "source": [
    "showpsfvsdata(f,p,index=8)"
   ]
  },
  {
   "cell_type": "code",
   "execution_count": null,
   "metadata": {},
   "outputs": [],
   "source": [
    "showlocalization(f,p)"
   ]
  },
  {
   "cell_type": "markdown",
   "metadata": {},
   "source": [
    "##### Optional plots"
   ]
  },
  {
   "cell_type": "code",
   "execution_count": null,
   "metadata": {},
   "outputs": [],
   "source": [
    "try:\n",
    "    showpupil(f,p)\n",
    "except:\n",
    "    print('no pupil')"
   ]
  },
  {
   "cell_type": "code",
   "execution_count": null,
   "metadata": {},
   "outputs": [],
   "source": [
    "try:\n",
    "    showzernike(f,p)\n",
    "except:\n",
    "    print('no Zernike coefficients')"
   ]
  },
  {
   "cell_type": "code",
   "execution_count": null,
   "metadata": {
    "tags": []
   },
   "outputs": [],
   "source": [
    "showlearnedparam(f,p)"
   ]
  },
  {
   "cell_type": "code",
   "execution_count": null,
   "metadata": {},
   "outputs": [],
   "source": [
    "try:\n",
    "    print ('sigma:') \n",
    "    print( f.res.sigma)\n",
    "except:\n",
    "    print('no sigma learnt')"
   ]
  }
 ],
 "metadata": {
  "kernelspec": {
   "display_name": "Python 3 (ipykernel)",
   "language": "python",
   "name": "python3"
  },
  "language_info": {
   "codemirror_mode": {
    "name": "ipython",
    "version": 3
   },
   "file_extension": ".py",
   "mimetype": "text/x-python",
   "name": "python",
   "nbconvert_exporter": "python",
   "pygments_lexer": "ipython3",
   "version": "3.10.10"
  },
  "vscode": {
   "interpreter": {
    "hash": "89d1b8ce024819efd91eaf58db697655917fa4bf76a5f13d569ae5fe9c730d16"
   }
  }
 },
 "nbformat": 4,
 "nbformat_minor": 4
}
